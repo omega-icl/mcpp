{
 "cells": [
  {
   "cell_type": "markdown",
   "id": "62cfe606-cfc2-4f61-ab45-383d51ab5e84",
   "metadata": {},
   "source": [
    "# Expression Trees in PyMC\n",
    "\n",
    "Expression trees, also known as factorable functions, can be represented using __directed acyclic graphs (DAGs)__, whose nodes are subexpressions and whose directed edges are computational flows ([Schichl & Neumaier, 2005](http://dx.doi.org/10.1007/s10898-005-0937-x)). A key advantage of DAGs is that they can handle common subexpressions shared by several functions effectively.\n",
    "\n",
    "An implementation of DAGs for factorable functions is provided through MC++. Capability includes __DAG evaluation__ in a range of arithmetics supported by MC++, including interval ranges, McCormick relaxations, Taylor and Chebyshev models, spectral bounds, interval superposition models, and polyhedral relaxations. Other capability includes their symbolic manipulation, including __automatic differentiation__. PyMC provides a python interface to these classes."
   ]
  },
  {
   "cell_type": "markdown",
   "id": "572dfe9f-19eb-43c7-bdf1-946ec602e6ef",
   "metadata": {},
   "source": [
    "## Defining an Expression Tree in PyMC"
   ]
  },
  {
   "cell_type": "markdown",
   "id": "6ba44a5c-ed91-4995-a905-572acc9b4ff5",
   "metadata": {},
   "source": [
    "Suppose we want to construct a DAG for the factorable function ${\\bf f}:\\mathbb{R}^4\\to\\mathbb{R}^2$ defined by\n",
    "$${\\bf f}(x_0,x_1,x_2,x_3) = \\left(\\begin{array}{c} x_2x_3-x_0\\\\ x_0\\sqrt{\\exp(x_2x_3)+1}+x_1\\end{array}\\right)$$\n",
    "\n",
    "We start by importing the PyMC library:"
   ]
  },
  {
   "cell_type": "code",
   "execution_count": 1,
   "id": "b34db4a9-282e-443a-b6d8-f6dc91fa33a9",
   "metadata": {},
   "outputs": [],
   "source": [
    "import pymc"
   ]
  },
  {
   "cell_type": "markdown",
   "id": "0f000030-6944-4134-9d00-225f8676b534",
   "metadata": {},
   "source": [
    "An environment `FFGraph` is first defined for recording the DAG of the function:"
   ]
  },
  {
   "cell_type": "code",
   "execution_count": 2,
   "id": "d5a2a207-1508-4240-b718-56c050553db7",
   "metadata": {},
   "outputs": [],
   "source": [
    "DAG = pymc.FFGraph()"
   ]
  },
  {
   "cell_type": "markdown",
   "id": "639c881c-78e8-4e41-ad24-f1d0d25a373e",
   "metadata": {},
   "source": [
    "All four variables participating in the function are then defined in the DAG environment using the type `FFVar`:"
   ]
  },
  {
   "cell_type": "code",
   "execution_count": 3,
   "id": "bf0f7a76-aaf4-4d71-8f01-9b2ed46a2b5d",
   "metadata": {},
   "outputs": [],
   "source": [
    "NX = 4\n",
    "X = []\n",
    "for i in range(NX):\n",
    "    X.append( pymc.FFVar(DAG,\"X\"+str(i)) )"
   ]
  },
  {
   "cell_type": "raw",
   "id": "f190d956-76cd-4b97-8bca-70821140cdbc",
   "metadata": {},
   "source": [
    "And the function is defined as:"
   ]
  },
  {
   "cell_type": "code",
   "execution_count": 4,
   "id": "e6b34e22-533a-40c2-af7d-b5e60c9aaeff",
   "metadata": {},
   "outputs": [],
   "source": [
    "F = [ X[2]*X[3]-X[0], X[0]*pymc.sqrt(pymc.exp(X[2]*X[3])+1)+X[1] ]"
   ]
  },
  {
   "cell_type": "markdown",
   "id": "c76ace87-cb6c-4381-9ded-c59487bfe96c",
   "metadata": {},
   "source": [
    "The entire DAG so far can be displayed as follows:"
   ]
  },
  {
   "cell_type": "code",
   "execution_count": 5,
   "id": "def15390-ce65-47f5-9d54-2c5115d232e0",
   "metadata": {},
   "outputs": [
    {
     "name": "stdout",
     "output_type": "stream",
     "text": [
      "\n",
      "DAG VARIABLES:\n",
      "  X0\t => { Z1 Z6 }\n",
      "  X1\t => { Z7 }\n",
      "  X2\t => { Z0 }\n",
      "  X3\t => { Z0 }\n",
      "\n",
      "DAG INTERMEDIATES:\n",
      "  Z0\t<=  X2 x X3\t\t => { Z1 Z2 }\n",
      "  Z1\t<=  Z0 - X0\t\t => { }\n",
      "  Z2\t<=  EXP( Z0 )\t\t => { Z4 }\n",
      "  Z4\t<=  Z2 + Z3\t\t => { Z5 }\n",
      "  Z5\t<=  SQRT( Z4 )\t\t => { Z6 }\n",
      "  Z6\t<=  X0 x Z5\t\t => { Z7 }\n",
      "  Z7\t<=  X1 + Z6\t\t => { }\n",
      "  Z3\t<=  1(I)\t\t => { Z4 }\n",
      "\n"
     ]
    }
   ],
   "source": [
    "print(DAG)"
   ]
  },
  {
   "cell_type": "markdown",
   "id": "bbc59dae-7d6f-467a-972d-5694952cf852",
   "metadata": {},
   "source": [
    "Observe that 9 auxiliary variables $z_0,\\ldots,z_8$ have been created in the DAG, which correspond to the various unary and binary operations in the factorable function expression, as well as the (integer or real) participating constants. Also note that the common sub-expression $x_2x_3$ is detected here; that is, the intermediate $z_0$ is reused to obtain both subsequent auxiliary variables $z_1$ and $z_2$.\n",
    "\n",
    "Subgraphs of the DAG corresponding to selected dependent variables can be generated and displayed:"
   ]
  },
  {
   "cell_type": "code",
   "execution_count": 6,
   "id": "c090aa9d-6121-4659-b777-4d7959120811",
   "metadata": {},
   "outputs": [
    {
     "name": "stdout",
     "output_type": "stream",
     "text": [
      "\n",
      "OPERATIONS IN SUBGRAPH F:\n",
      "  X2\t<<  VARIABLE\n",
      "  X3\t<<  VARIABLE\n",
      "  Z0\t<-  X2 x X3\t\n",
      "  X0\t<-  VARIABLE\n",
      "  F0\t<<  Z0 - X0\t\n",
      "  X1\t<<  VARIABLE\n",
      "  Z2\t<<  EXP( Z0 )\t\n",
      "  Z3\t<<  1(I)\t\n",
      "  Z4\t<<  Z2 + Z3\t\n",
      "  Z5\t<<  SQRT( Z4 )\t\n",
      "  Z6\t<<  X0 x Z5\t\n",
      "  F1\t<<  X1 + Z6\t\n",
      "DEPENDENTS IN SUBGRAPH F:\n",
      "  0:  F0\n",
      "  1:  F1\n",
      "WORK ARRAY SIZE: 12\n"
     ]
    }
   ],
   "source": [
    "F[0].set(\"F0\")\n",
    "F[1].set(\"F1\")\n",
    "sgF = DAG.subgraph( F )\n",
    "DAG.output( sgF, \" F\" )"
   ]
  },
  {
   "cell_type": "markdown",
   "id": "d053451e-2690-4a63-ab4c-f80223ac71cd",
   "metadata": {},
   "source": [
    "One-line string expressions can also be generated for DAG variables using the `str` field:"
   ]
  },
  {
   "cell_type": "code",
   "execution_count": 7,
   "id": "cdaac520-2ec9-4198-9e71-c84dbc1cc0d3",
   "metadata": {},
   "outputs": [
    {
     "name": "stdout",
     "output_type": "stream",
     "text": [
      "F0  =  X2 * X3 - X0\n",
      "F1  =  X1 + X0 * SQRT( EXP( X2 * X3 ) + 1 )\n"
     ]
    }
   ],
   "source": [
    "print( F[0], \" = \", F[0].str() )\n",
    "print( F[1], \" = \", F[1].str() )"
   ]
  },
  {
   "cell_type": "markdown",
   "id": "58957084-bf4b-4a68-96e6-f87ac313ec3d",
   "metadata": {},
   "source": [
    "Subgraphs may also be depicted using [Graphviz](http://www.graphviz.org/). For instance, the dot file `F.dot` for the function dependents `F` can be generated as follows:"
   ]
  },
  {
   "cell_type": "code",
   "execution_count": 8,
   "id": "8ef4c552-44b0-432e-871c-5972885a4780",
   "metadata": {},
   "outputs": [],
   "source": [
    "DAG.dot_script( F, \"F.dot\" )"
   ]
  },
  {
   "cell_type": "markdown",
   "id": "84d9cec2-bc68-4480-ac64-82cfce2e8ad9",
   "metadata": {},
   "source": [
    "Such dot files may be converted into image files using [PyGraphviz](https://pygraphviz.github.io/documentation/stable/index.html):"
   ]
  },
  {
   "cell_type": "code",
   "execution_count": 9,
   "id": "b107294c-7cf0-4425-ab25-04529c910235",
   "metadata": {},
   "outputs": [
    {
     "data": {
      "image/png": "[encoded data removed]",
      "text/plain": [
       "<IPython.core.display.Image object>"
      ]
     },
     "execution_count": 9,
     "metadata": {},
     "output_type": "execute_result"
    }
   ],
   "source": [
    "import pygraphviz as pgv\n",
    "G = pgv.AGraph(\"F.dot\")\n",
    "G.draw(\"F.png\", prog=\"dot\")\n",
    "\n",
    "from IPython.display import Image\n",
    "fig = Image(filename=('F.png'))\n",
    "fig"
   ]
  },
  {
   "cell_type": "markdown",
   "id": "734f6319-73ba-4faf-b78a-2a0d5c232731",
   "metadata": {},
   "source": [
    "## Differenting an Expression Tree in PyMC"
   ]
  },
  {
   "cell_type": "markdown",
   "id": "dadf1d6d-13c2-470e-9b9e-a6f698c04738",
   "metadata": {
    "jp-MarkdownHeadingCollapsed": true
   },
   "source": [
    "Symbolic differentiation in PyMC implements both the forward and reverse modes of automatic differentiation, available through the methods `fdiff` and `bdiff`, respectively. Derivatives are provided in sparse format (triplet of row indices, column indices and derivative entries in lists)."
   ]
  },
  {
   "cell_type": "markdown",
   "id": "feeb2e06-0e75-4872-a872-f383643d534c",
   "metadata": {},
   "source": [
    "### Sparse Derivatives"
   ]
  },
  {
   "cell_type": "markdown",
   "id": "c57a64e2-1c46-48f2-9ea5-aedfe6ddffac",
   "metadata": {},
   "source": [
    "For instance, sparse derivatives of the two-component function $f$ with respect to the four variables $x_0,\\ldots,x_3$ using the reverse mode are computed as:"
   ]
  },
  {
   "cell_type": "code",
   "execution_count": 10,
   "id": "346c6df3-9023-4df8-aa20-0b7e130e522e",
   "metadata": {},
   "outputs": [
    {
     "name": "stdout",
     "output_type": "stream",
     "text": [
      "[0, 0, 0, 1, 1, 1, 1] [0, 2, 3, 0, 1, 2, 3] [Z11, X3, X2, Z5, Z3, Z15, Z14]\n"
     ]
    }
   ],
   "source": [
    "[Row,Col,dFdX] = DAG.bdiff( F, X )\n",
    "print( Row, Col, dFdX )"
   ]
  },
  {
   "cell_type": "markdown",
   "id": "eaa8a212-3a28-45fb-90bc-32c97dcdd111",
   "metadata": {},
   "source": [
    "A subgraph of the derivative $\\displaystyle\\frac{\\partial f_1}{\\partial x_0} = \\sqrt{\\exp(x_2x_3)+1}$ is given by: "
   ]
  },
  {
   "cell_type": "code",
   "execution_count": 11,
   "id": "b106c2bb-16ff-4f54-8057-741fc9a71576",
   "metadata": {},
   "outputs": [
    {
     "name": "stdout",
     "output_type": "stream",
     "text": [
      "Z5  =  SQRT( EXP( X2 * X3 ) + 1 )\n",
      "\n",
      "OPERATIONS IN SUBGRAPH dF1/dX0:\n",
      "  X2\t<<  VARIABLE\n",
      "  X3\t<<  VARIABLE\n",
      "  Z0\t<<  X2 x X3\t\n",
      "  Z2\t<<  EXP( Z0 )\t\n",
      "  Z3\t<<  1(I)\t\n",
      "  Z4\t<<  Z2 + Z3\t\n",
      "  Z5\t<<  SQRT( Z4 )\t\n",
      "DEPENDENTS IN SUBGRAPH dF1/dX0:\n",
      "  0:  Z5\n",
      "WORK ARRAY SIZE: 7\n"
     ]
    }
   ],
   "source": [
    "print( dFdX[3], \" = \", dFdX[3].str() )\n",
    "DAG.output( [dFdX[3]], \" dF1/dX0\" )"
   ]
  },
  {
   "cell_type": "markdown",
   "id": "432ef7ac-407e-4dda-b01a-2b0d4a53a818",
   "metadata": {},
   "source": [
    "Differentiation can be chained to compute second- and higher-order derivatives. For instance, the second-order derivatives (Hessian) of $f_1$ with respect to $x_0,\\ldots,x_3$ using a combination of reverse and forward differentiation are obtained as:"
   ]
  },
  {
   "cell_type": "code",
   "execution_count": 12,
   "id": "44affe94-40b2-4fc0-b717-ec3febf387cf",
   "metadata": {},
   "outputs": [
    {
     "name": "stdout",
     "output_type": "stream",
     "text": [
      "[2, 3, 0, 2, 3, 0, 2, 3] [0, 0, 2, 2, 2, 3, 3, 3] [Z19, Z20, Z22, Z29, Z31, Z33, Z41, Z42]\n"
     ]
    }
   ],
   "source": [
    "[Row1,Col1,dF1dX]   = DAG.bdiff( [F[1]], X )\n",
    "[Row2,Col2,d2F1dX2] = DAG.fdiff( dF1dX, X )\n",
    "print( [Col1[i] for i in Row2], Col2, d2F1dX2 )"
   ]
  },
  {
   "cell_type": "markdown",
   "id": "9168de65-4630-4255-909f-15d68e7c998b",
   "metadata": {},
   "source": [
    "Subgraph of the second-order derivatives $\\displaystyle\\frac{\\partial^2 f_1}{\\partial x_2\\partial x_0} = \\displaystyle\\frac{\\partial^2 f_1}{\\partial x_0\\partial x_2} = \\frac{x_3\\exp(x_2x_3)}{2\\sqrt{\\exp(x_2x_3)+1}}$ are given by: "
   ]
  },
  {
   "cell_type": "code",
   "execution_count": 13,
   "id": "2632e5f5-856d-49e2-94ff-72650cad583c",
   "metadata": {},
   "outputs": [
    {
     "name": "stdout",
     "output_type": "stream",
     "text": [
      "Z19  =  X3 * EXP( X2 * X3 ) * ( 1 / SQRT( EXP( X2 * X3 ) + 1 ) ) * 0.5\n",
      "Z22  =  ( ( 1 / SQRT( EXP( X2 * X3 ) + 1 ) ) * 0.5 ) * X3 * EXP( X2 * X3 )\n"
     ]
    }
   ],
   "source": [
    "print( d2F1dX2[0], \" = \", d2F1dX2[0].str() )\n",
    "print( d2F1dX2[2], \" = \", d2F1dX2[2].str() )"
   ]
  },
  {
   "cell_type": "markdown",
   "id": "e9315d6a-25b5-41df-9b45-6b72b8dea554",
   "metadata": {},
   "source": [
    "Notice, in particular, how the subgraphs of the $\\displaystyle\\frac{\\partial^2 f_1}{\\partial x_2\\partial x_0}$ and $\\displaystyle\\frac{\\partial^2 f_1}{\\partial x_0\\partial x_2}$ are different but yield two equivalent representations of the same expression."
   ]
  },
  {
   "cell_type": "markdown",
   "id": "9fa2fc8a-28a2-4bb7-8097-eda9d56625d9",
   "metadata": {},
   "source": [
    "### Directional Derivatives"
   ]
  },
  {
   "cell_type": "markdown",
   "id": "36eb84e7-6e47-432d-8f5f-96b1508bec9e",
   "metadata": {},
   "source": [
    "Similarly, directional derivatives of the function $f_1$ with respect to $(x_0,\\ldots,x_3)$ in a direction $(d_0,\\ldots,d_4)$ are computed using the forward mode as:"
   ]
  },
  {
   "cell_type": "code",
   "execution_count": 14,
   "id": "68b3acb7-45a9-4941-8e81-8b402c9ed663",
   "metadata": {},
   "outputs": [],
   "source": [
    "D = []\n",
    "for i in range(NX):\n",
    "    D.append( pymc.FFVar(DAG,\"D\"+str(i)) )\n",
    "[Row,Col,dF1dX_D] = DAG.fdiff( [F[1]], X, D )"
   ]
  },
  {
   "cell_type": "markdown",
   "id": "5ca59150-3872-4efe-a665-6f96b7c6158e",
   "metadata": {},
   "source": [
    "A subgraph of the directional derivative $\\displaystyle\\frac{\\partial f_1}{\\partial x}\\cdot d = \\sum_i \\frac{\\partial f_1}{\\partial x_i} d_i$ is given by:"
   ]
  },
  {
   "cell_type": "code",
   "execution_count": 15,
   "id": "d1f11ce2-489c-4b47-882a-68f9a753ea24",
   "metadata": {},
   "outputs": [
    {
     "name": "stdout",
     "output_type": "stream",
     "text": [
      "dF1/dX·D =  D1 + D0 * SQRT( EXP( X2 * X3 ) + 1 ) + X0 * ( ( 1 / SQRT( EXP( X2 * X3 ) + 1 ) ) * 0.5 ) * EXP( X2 * X3 ) * ( X3 * D2 + X2 * D3 )\n"
     ]
    }
   ],
   "source": [
    "print( \"dF1/dX·D = \", dF1dX_D[0].str() )"
   ]
  },
  {
   "cell_type": "markdown",
   "id": "b7b906df-01b7-45a8-ac8c-10fa3dbf2db3",
   "metadata": {},
   "source": [
    "Finally, directional derivatives of the two-component function $f$ with respect to $x_0$ in a direction $(d_0,d_1)$ are computed using the reverse mode as:"
   ]
  },
  {
   "cell_type": "code",
   "execution_count": 16,
   "id": "3f22d264-10ac-4f9b-a3ec-fb947c931dec",
   "metadata": {},
   "outputs": [],
   "source": [
    "[Row,Col,D_dFdX0] = DAG.bdiff( F, [D[0],D[1]], [X[0]] )"
   ]
  },
  {
   "cell_type": "markdown",
   "id": "512b1087-2975-4aaa-a68e-7893b8e5ecb1",
   "metadata": {},
   "source": [
    "A subgraph of the directional derivative $d\\cdot \\displaystyle\\frac{\\partial f}{\\partial x_0} = \\sum_i d_i\\frac{\\partial f_i}{\\partial x_0}$ is given by:"
   ]
  },
  {
   "cell_type": "code",
   "execution_count": 17,
   "id": "9b6e4bea-d1b9-429e-9b01-9889b9c40557",
   "metadata": {},
   "outputs": [
    {
     "name": "stdout",
     "output_type": "stream",
     "text": [
      "D·dF/dX0 =  ( - D0 ) + D1 * SQRT( EXP( X2 * X3 ) + 1 )\n"
     ]
    }
   ],
   "source": [
    "print( \"D·dF/dX0 = \", D_dFdX0[0].str() )"
   ]
  },
  {
   "cell_type": "markdown",
   "id": "2d729c33-1f75-473a-a413-d580462c4778",
   "metadata": {},
   "source": [
    "## Evaluating an Expression Tree in PyMC"
   ]
  },
  {
   "cell_type": "markdown",
   "id": "ea651f64-d146-4043-9972-9fbff4d11ffa",
   "metadata": {},
   "source": [
    "One of the main benefits of defining expression trees in pyMC is of course the ability to evaluate a DAG in various arithmetics.\n",
    "\n",
    "For instance, the values of $(f_0,f_1)$ and $\\displaystyle\\frac{\\partial^2 f_1}{\\partial x_2\\partial x_0}$ at $(x_0,x_1,x_2,x_3)=(1,0.5,-1,2)$ are computed as:"
   ]
  },
  {
   "cell_type": "code",
   "execution_count": 18,
   "id": "812446c7-6381-4ee8-80f0-7cb001e146aa",
   "metadata": {},
   "outputs": [
    {
     "name": "stdout",
     "output_type": "stream",
     "text": [
      "[-3.0, 1.5655211322337126]\n",
      "[0.12701323243857365]\n"
     ]
    }
   ],
   "source": [
    "DF = DAG.eval( F, X, [1,0.5,-1,2] )\n",
    "print(DF)\n",
    "\n",
    "Dd2F1dX0dX2 = DAG.eval( [d2F1dX2[2]], X, [1,0.5,-1,2] )\n",
    "print(Dd2F1dX0dX2)"
   ]
  },
  {
   "cell_type": "markdown",
   "id": "4b518b9b-fd69-434f-98ff-da7b31eceb19",
   "metadata": {},
   "source": [
    "Instead, if one whishes to compute bounds on the range of $(f_0,f_1)$ and $\\displaystyle\\frac{\\partial^2 f_1}{\\partial x_2\\partial x_0}$ for $(x_0,x_1,x_2,x_3)\\in [0.9,1.1]\\times[0.4,0.6]\\times[-0.5,1.5]\\times[1.8,2.3]$, the DAGs can be evaluated in interval arithmetic:"
   ]
  },
  {
   "cell_type": "code",
   "execution_count": 19,
   "id": "0f272c32-70cc-40b2-91da-54fade4156b2",
   "metadata": {},
   "outputs": [
    {
     "name": "stdout",
     "output_type": "stream",
     "text": [
      "[[ -4.55000e+00 : -1.80000e+00 ], [  1.31417e+00 :  1.90459e+00 ]]\n",
      "[[  2.40905e-02 :  4.60306e-01 ]]\n"
     ]
    }
   ],
   "source": [
    "IX = [pymc.Interval(0.9,1.1),pymc.Interval(0.4,0.6),pymc.Interval(-1.5,-0.5),pymc.Interval(1.8,2.3)]\n",
    "\n",
    "IF = DAG.eval( F, X, IX )\n",
    "print(IF)\n",
    "\n",
    "Id2F1dX0dX2 = DAG.eval( [d2F1dX2[2]], X, IX )\n",
    "print(Id2F1dX0dX2)"
   ]
  },
  {
   "cell_type": "markdown",
   "id": "3bd9da3e-3f63-49ef-83d1-5d8b456567a4",
   "metadata": {},
   "source": [
    "pyMC also has built-in capability for evaluation a DAG at multiple points. For a great many points, these evaluations may be performed in parallel by dispatching on multiple threads (vectorization). The maximal number of threads is controlled by the option `MAXTHREAD` of a DAG.\n",
    "\n"
   ]
  },
  {
   "cell_type": "code",
   "execution_count": 20,
   "id": "1b415cfc-2201-47f4-84d3-977f790ca7ab",
   "metadata": {},
   "outputs": [
    {
     "name": "stderr",
     "output_type": "stream",
     "text": [
      "vectorized DAG evaluation on 1 threads: 0.101075 sec\n",
      "vectorized DAG evaluation on 2 threads: 0.074463 sec\n",
      "vectorized DAG evaluation on 3 threads: 0.049482 sec\n",
      "vectorized DAG evaluation on 0 threads: 0.035135 sec\n"
     ]
    }
   ],
   "source": [
    "from scipy.stats import qmc\n",
    "sampler = qmc.Sobol(d=NX, scramble=False)\n",
    "samX = sampler.random_base2(m=20) # 2^20~10^6 evaluations \n",
    "#print(samX.tolist())\n",
    "\n",
    "DAG.options.MAXTHREAD = 1\n",
    "samF = DAG.veval( F, X, samX.tolist(), walltime=True )\n",
    "#print(samF)\n",
    "\n",
    "DAG.options.MAXTHREAD = 2\n",
    "samF = DAG.veval( F, X, samX.tolist(), walltime=True )\n",
    "\n",
    "DAG.options.MAXTHREAD = 3\n",
    "samF = DAG.veval( F, X, samX.tolist(), walltime=True )\n",
    "\n",
    "DAG.options.MAXTHREAD = 0 # all available threads\n",
    "samF = DAG.veval( F, X, samX.tolist(), walltime=True )"
   ]
  },
  {
   "cell_type": "code",
   "execution_count": 21,
   "id": "ce84ce39-5185-47da-8716-d0a16730a806",
   "metadata": {},
   "outputs": [
    {
     "name": "stdout",
     "output_type": "stream",
     "text": [
      "eval walltime with numpy:  0.05153226852416992\n"
     ]
    }
   ],
   "source": [
    "import numpy as np\n",
    "import time\n",
    "\n",
    "start = time.time()\n",
    "samF = [ samX[:,2]*samX[:,3]-samX[:,0], samX[:,0]*np.sqrt(np.exp(samX[:,2]*samX[:,3])+1)+samX[:,1] ]\n",
    "end = time.time()\n",
    "print(\"eval walltime with numpy: \", end - start)"
   ]
  },
  {
   "cell_type": "code",
   "execution_count": null,
   "id": "113c95b0-aedc-4d37-b007-569fd197fbc2",
   "metadata": {},
   "outputs": [],
   "source": []
  }
 ],
 "metadata": {
  "kernelspec": {
   "display_name": "Python 3 (ipykernel)",
   "language": "python",
   "name": "python3"
  },
  "language_info": {
   "codemirror_mode": {
    "name": "ipython",
    "version": 3
   },
   "file_extension": ".py",
   "mimetype": "text/x-python",
   "name": "python",
   "nbconvert_exporter": "python",
   "pygments_lexer": "ipython3",
   "version": "3.12.2"
  }
 },
 "nbformat": 4,
 "nbformat_minor": 5
}
